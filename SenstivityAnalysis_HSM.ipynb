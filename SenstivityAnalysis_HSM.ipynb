{
  "nbformat": 4,
  "nbformat_minor": 0,
  "metadata": {
    "colab": {
      "provenance": [],
      "authorship_tag": "ABX9TyNl3vlocNGQL9u4eIf0EmPW",
      "include_colab_link": true
    },
    "kernelspec": {
      "name": "python3",
      "display_name": "Python 3"
    },
    "language_info": {
      "name": "python"
    }
  },
  "cells": [
    {
      "cell_type": "markdown",
      "metadata": {
        "id": "view-in-github",
        "colab_type": "text"
      },
      "source": [
        "<a href=\"https://colab.research.google.com/github/Debashree288/Sensitivity-Analysis/blob/main/SenstivityAnalysis_HSM.ipynb\" target=\"_parent\"><img src=\"https://colab.research.google.com/assets/colab-badge.svg\" alt=\"Open In Colab\"/></a>"
      ]
    },
    {
      "cell_type": "code",
      "execution_count": 8,
      "metadata": {
        "colab": {
          "base_uri": "https://localhost:8080/"
        },
        "id": "TcS7SOn5H92-",
        "outputId": "ef75b158-37c5-4e81-b7d1-dfaac355da4c"
      },
      "outputs": [
        {
          "output_type": "stream",
          "name": "stdout",
          "text": [
            "Sensitivity Analysis Results:\n",
            "============================\n",
            "Sensitivity Results (Difference in Coil Weight from Base):\n",
            "Width: 0.0\n",
            "Length: 6445635000.0\n",
            "Thickness: 2775760000.0\n",
            "============================\n",
            "The most impactful parameter is: Length\n"
          ]
        }
      ],
      "source": [
        "import numpy as np\n",
        "\n",
        "# Parameter ranges\n",
        "width_range = range(800, 1701)\n",
        "length_ranges = [(9000, 9701), (10400, 10401), (11300, 12501)]\n",
        "thickness_range = range(200, 251)\n",
        "\n",
        "# Fixed values\n",
        "density = 7.85\n",
        "\n",
        "# Initialize base coil weight\n",
        "base_coil_weight = 1700 * 10400 * 230 * density\n",
        "\n",
        "# Perform sensitivity analysis\n",
        "sensitivity_results = {}\n",
        "\n",
        "# Vary width\n",
        "for width in width_range:\n",
        "    coil_weight = width * 10400 * 230 * density\n",
        "    sensitivity_results['width'] = coil_weight - base_coil_weight\n",
        "\n",
        "# Vary length\n",
        "for length_range in length_ranges:\n",
        "    for length in range(*length_range):\n",
        "        coil_weight = 1700 * length * 230 * density\n",
        "        sensitivity_results['length'] = coil_weight - base_coil_weight\n",
        "\n",
        "# Vary thickness\n",
        "for thickness in thickness_range:\n",
        "    coil_weight = 1700 * 10400 * thickness * density\n",
        "    sensitivity_results['thickness'] = coil_weight - base_coil_weight\n",
        "\n",
        "# Determine most impactful parameter\n",
        "most_impactful_param = max(sensitivity_results, key=lambda x: abs(sensitivity_results[x]))\n",
        "\n",
        "# Print the results\n",
        "print(\"Sensitivity Analysis Results:\")\n",
        "print(\"============================\")\n",
        "print(\"Sensitivity Results (Difference in Coil Weight from Base):\")\n",
        "for param, difference in sensitivity_results.items():\n",
        "    print(f\"{param.capitalize()}: {difference}\")\n",
        "print(\"============================\")\n",
        "print(f\"The most impactful parameter is: {most_impactful_param.capitalize()}\")\n"
      ]
    }
  ]
}