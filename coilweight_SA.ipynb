{
  "nbformat": 4,
  "nbformat_minor": 0,
  "metadata": {
    "colab": {
      "provenance": [],
      "authorship_tag": "ABX9TyMTmib2OFFk4bmiUN5GA8fB",
      "include_colab_link": true
    },
    "kernelspec": {
      "name": "python3",
      "display_name": "Python 3"
    },
    "language_info": {
      "name": "python"
    }
  },
  "cells": [
    {
      "cell_type": "markdown",
      "metadata": {
        "id": "view-in-github",
        "colab_type": "text"
      },
      "source": [
        "<a href=\"https://colab.research.google.com/github/Debashree288/Sensitivity-Analysis/blob/main/coilweight_SA.ipynb\" target=\"_parent\"><img src=\"https://colab.research.google.com/assets/colab-badge.svg\" alt=\"Open In Colab\"/></a>"
      ]
    },
    {
      "cell_type": "code",
      "source": [
        "import numpy as np\n",
        "\n",
        "# Define the parameter ranges and constraints\n",
        "width_min = 800\n",
        "width_max = 1700\n",
        "length_constraints = [(9000, 9700), 10400, (11300, 12500)]\n",
        "thickness_min = 230\n",
        "thickness_max = 240\n",
        "density = 7.85\n",
        "\n",
        "# Define the default values\n",
        "default_width = (width_min + width_max) / 2\n",
        "default_thickness = 230\n",
        "\n",
        "# Calculate the default lengths\n",
        "default_lengths = []\n",
        "for length in length_constraints:\n",
        "    if isinstance(length, tuple):\n",
        "        default_lengths.extend(range(length[0], length[1] + 1))\n",
        "    else:\n",
        "        default_lengths.append(length)\n",
        "default_length = np.mean(default_lengths)\n",
        "\n",
        "# Define the variation factors to analyze\n",
        "factors = np.linspace(0.8, 1.2, 21)\n",
        "\n",
        "# Initialize variables to store the changes in coil weight for each parameter\n",
        "width_changes = []\n",
        "length_changes = []\n",
        "thickness_changes = []\n",
        "\n",
        "# Perform the sensitivity analysis for width\n",
        "for factor in factors:\n",
        "    width = default_width * factor\n",
        "    coil_weight = width * default_length * default_thickness * density\n",
        "    width_changes.append(coil_weight)\n",
        "\n",
        "# Perform the sensitivity analysis for length\n",
        "for factor in factors:\n",
        "    lengths = []\n",
        "    for length in length_constraints:\n",
        "        if isinstance(length, tuple):\n",
        "            lengths.append(length[0] + (length[1] - length[0]) * factor)\n",
        "        else:\n",
        "            lengths.append(length)\n",
        "    coil_weight = default_width * np.mean(lengths) * default_thickness * density\n",
        "    length_changes.append(coil_weight)\n",
        "\n",
        "# Perform the sensitivity analysis for thickness\n",
        "for factor in factors:\n",
        "    thickness = default_thickness * factor\n",
        "    coil_weight = default_width * default_length * thickness * density\n",
        "    thickness_changes.append(coil_weight)\n",
        "\n",
        "# Calculate the changes in coil weight for each parameter\n",
        "width_changes = np.diff(width_changes)\n",
        "length_changes = np.diff(length_changes)\n",
        "thickness_changes = np.diff(thickness_changes)\n",
        "\n",
        "# Determine the most impactful parameter based on the maximum change in coil weight\n",
        "max_width_change = np.max(np.abs(width_changes))\n",
        "max_length_change = np.max(np.abs(length_changes))\n",
        "max_thickness_change = np.max(np.abs(thickness_changes))\n",
        "\n",
        "most_impactful_parameters = []\n",
        "if max_width_change == max(max_width_change, max_length_change, max_thickness_change):\n",
        "    most_impactful_parameters.append(\"width\")\n",
        "if max_length_change == max(max_width_change, max_length_change, max_thickness_change):\n",
        "    most_impactful_parameters.append(\"length\")\n",
        "if max_thickness_change == max(max_width_change, max_length_change, max_thickness_change):\n",
        "    most_impactful_parameters.append(\"thickness\")\n",
        "\n",
        "# Display the results\n",
        "print(\"Sensitivity Analysis Results:\")\n",
        "print(\"============================\")\n",
        "print(\"Parameter\\tMax Change in Coil Weight\")\n",
        "print(\"-----------------------------------\")\n",
        "print(f\"Width\\t\\t{max_width_change:.2f}\")\n",
        "print(f\"Length\\t\\t{max_length_change:.2f}\")\n",
        "print(f\"Thickness\\t{max_thickness_change:.2f}\")\n",
        "print(\"============================\")\n",
        "print(\"The most impactful parameters are:\", ', '.join(most_impactful_parameters))\n"
      ],
      "metadata": {
        "id": "araBOuxUBgAT",
        "outputId": "c70703c8-939a-48e3-fb20-ebb155dabe17",
        "colab": {
          "base_uri": "https://localhost:8080/"
        }
      },
      "execution_count": 8,
      "outputs": [
        {
          "output_type": "stream",
          "name": "stdout",
          "text": [
            "Sensitivity Analysis Results:\n",
            "============================\n",
            "Parameter\tMax Change in Coil Weight\n",
            "-----------------------------------\n",
            "Width\t\t494701544.60\n",
            "Length\t\t28587083.33\n",
            "Thickness\t494701544.60\n",
            "============================\n",
            "The most impactful parameters are: width, thickness\n"
          ]
        }
      ]
    },
    {
      "cell_type": "markdown",
      "source": [],
      "metadata": {
        "id": "9thHM0op_S62"
      }
    }
  ]
}