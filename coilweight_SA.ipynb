{
  "nbformat": 4,
  "nbformat_minor": 0,
  "metadata": {
    "colab": {
      "provenance": [],
      "authorship_tag": "ABX9TyMwl21SatmRExG6wWquv5s9",
      "include_colab_link": true
    },
    "kernelspec": {
      "name": "python3",
      "display_name": "Python 3"
    },
    "language_info": {
      "name": "python"
    }
  },
  "cells": [
    {
      "cell_type": "markdown",
      "metadata": {
        "id": "view-in-github",
        "colab_type": "text"
      },
      "source": [
        "<a href=\"https://colab.research.google.com/github/Debashree288/Sensitivity-Analysis/blob/main/coilweight_SA.ipynb\" target=\"_parent\"><img src=\"https://colab.research.google.com/assets/colab-badge.svg\" alt=\"Open In Colab\"/></a>"
      ]
    },
    {
      "cell_type": "code",
      "source": [
        "import numpy as np\n",
        "\n",
        "# Define the parameter ranges and constraints\n",
        "width_min = 800\n",
        "width_max = 1700\n",
        "length_constraints = [(9000, 9701), (10400, 10401), (11300, 12501)]\n",
        "thickness_min = 200\n",
        "thickness_max = 250\n",
        "density = 7.85\n",
        "\n",
        "# Define the default values\n",
        "default_width = (width_min + width_max) / 2\n",
        "default_thickness = 230\n",
        "default_lengths = [length[0] for length in length_constraints] + [length[1] for length in length_constraints]\n",
        "default_length = sum(default_lengths) / len(default_lengths)\n",
        "\n",
        "# Define the variation factors to analyze\n",
        "factors = np.linspace(0.8, 1.2, 21)\n",
        "\n",
        "# Initialize variables to store the changes in coil weight for each parameter\n",
        "width_changes = []\n",
        "length_changes = []\n",
        "thickness_changes = []\n",
        "\n",
        "# Perform the sensitivity analysis for width\n",
        "for factor in factors:\n",
        "    width = default_width * factor\n",
        "    coil_weight = width * default_length * default_thickness * density\n",
        "    width_changes.append(coil_weight)\n",
        "\n",
        "# Perform the sensitivity analysis for length\n",
        "for factor in factors:\n",
        "    lengths = []\n",
        "    for length in length_constraints:\n",
        "        lengths.append(length[0] + (length[1] - length[0]) * factor)\n",
        "    coil_weight = default_width * np.mean(lengths) * default_thickness * density\n",
        "    length_changes.append(coil_weight)\n",
        "\n",
        "# Perform the sensitivity analysis for thickness\n",
        "for factor in factors:\n",
        "    thickness = default_thickness * factor\n",
        "    coil_weight = default_width * default_length * thickness * density\n",
        "    thickness_changes.append(coil_weight)\n",
        "\n",
        "# Calculate the changes in coil weight for each parameter\n",
        "width_changes = np.diff(width_changes)\n",
        "length_changes = np.diff(length_changes)\n",
        "thickness_changes = np.diff(thickness_changes)\n",
        "\n",
        "# Determine the most impactful parameter based on the maximum change in coil weight\n",
        "max_width_change = np.max(np.abs(width_changes))\n",
        "max_length_change = np.max(np.abs(length_changes))\n",
        "max_thickness_change = np.max(np.abs(thickness_changes))\n",
        "\n",
        "most_impactful_parameters = []\n",
        "if max_width_change == max(max_width_change, max_length_change, max_thickness_change):\n",
        "    most_impactful_parameters.append(\"width\")\n",
        "if max_length_change == max(max_width_change, max_length_change, max_thickness_change):\n",
        "    most_impactful_parameters.append(\"length\")\n",
        "if max_thickness_change == max(max_width_change, max_length_change, max_thickness_change):\n",
        "    most_impactful_parameters.append(\"thickness\")\n",
        "\n",
        "# Display the results\n",
        "print(\"Sensitivity Analysis Results:\")\n",
        "print(\"============================\")\n",
        "print(\"Parameter\\tMax Change in Coil Weight\")\n",
        "print(\"-----------------------------------\")\n",
        "print(f\"Width\\t\\t{max_width_change:.2f}\")\n",
        "print(f\"Length\\t\\t{max_length_change:.2f}\")\n",
        "print(f\"Thickness\\t{max_thickness_change:.2f}\")\n",
        "print(\"============================\")\n",
        "print(\"The most impactful parameters are:\", ', '.join(most_impactful_parameters))\n"
      ],
      "metadata": {
        "colab": {
          "base_uri": "https://localhost:8080/"
        },
        "id": "xSojVN7f_agc",
        "outputId": "90d1967f-9a90-474d-b8d8-4479880105f8"
      },
      "execution_count": 3,
      "outputs": [
        {
          "output_type": "stream",
          "name": "stdout",
          "text": [
            "Sensitivity Analysis Results:\n",
            "============================\n",
            "Parameter\tMax Change in Coil Weight\n",
            "-----------------------------------\n",
            "Width\t\t476223193.75\n",
            "Length\t\t28632220.83\n",
            "Thickness\t476223193.75\n",
            "============================\n",
            "The most impactful parameters are: width, thickness\n"
          ]
        }
      ]
    }
  ]
}