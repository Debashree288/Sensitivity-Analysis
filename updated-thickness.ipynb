{
  "nbformat": 4,
  "nbformat_minor": 0,
  "metadata": {
    "colab": {
      "provenance": [],
      "authorship_tag": "ABX9TyMJT2r4BDz/rdI7rnmkD5Lr",
      "include_colab_link": true
    },
    "kernelspec": {
      "name": "python3",
      "display_name": "Python 3"
    },
    "language_info": {
      "name": "python"
    }
  },
  "cells": [
    {
      "cell_type": "markdown",
      "metadata": {
        "id": "view-in-github",
        "colab_type": "text"
      },
      "source": [
        "<a href=\"https://colab.research.google.com/github/Debashree288/Sensitivity-Analysis/blob/main/updated-thickness.ipynb\" target=\"_parent\"><img src=\"https://colab.research.google.com/assets/colab-badge.svg\" alt=\"Open In Colab\"/></a>"
      ]
    },
    {
      "cell_type": "code",
      "source": [
        "import numpy as np\n",
        "\n",
        "# Define the parameter ranges\n",
        "width_min = 800\n",
        "width_max = 1700\n",
        "length_constraints = [(9000, 9701), (10400, 10401), (11300, 12501)]\n",
        "thickness_range = range(200, 241)  # Updated thickness range\n",
        "\n",
        "# Define the default values\n",
        "default_width = (width_min + width_max) / 2\n",
        "default_thickness = 230  # Updated default thickness\n",
        "default_lengths = [length[0] for length in length_constraints] + [length[1] for length in length_constraints]\n",
        "default_length = sum(default_lengths) / len(default_lengths)\n",
        "density = 7.85\n",
        "\n",
        "# Define the variation factors to analyze\n",
        "factors = np.linspace(0.8, 1.2, 21)\n",
        "\n",
        "# Initialize variables to store the changes in coil weight for each parameter\n",
        "thickness_changes = []\n",
        "\n",
        "# Perform the sensitivity analysis for thickness\n",
        "for factor in factors:\n",
        "    thickness = default_thickness * factor\n",
        "    coil_weight = default_width * default_length * thickness * density\n",
        "    thickness_changes.append(coil_weight)\n",
        "\n",
        "# Calculate the changes in coil weight for thickness\n",
        "thickness_changes = np.diff(thickness_changes)\n",
        "\n",
        "# Calculate the maximum change in coil weight\n",
        "max_thickness_change = np.max(np.abs(thickness_changes))\n",
        "\n",
        "# Determine if increasing the thickness is worth it\n",
        "if max_thickness_change > 0:\n",
        "    print(\"Increasing the thickness from 230mm to 240mm is worth considering.\")\n",
        "    print(f\"The maximum increase in coil weight due to thickness is: {max_thickness_change:.2f}\")\n",
        "else:\n",
        "    print(\"Increasing the thickness from 230mm to 240mm does not significantly impact the coil weight.\")\n",
        "\n"
      ],
      "metadata": {
        "colab": {
          "base_uri": "https://localhost:8080/"
        },
        "id": "aNJLOq8l9cFT",
        "outputId": "99dfd631-451a-4e28-e28b-b4e955df079a"
      },
      "execution_count": 11,
      "outputs": [
        {
          "output_type": "stream",
          "name": "stdout",
          "text": [
            "Increasing the thickness from 230mm to 240mm is worth considering.\n",
            "The maximum increase in coil weight due to thickness is: 476223193.75\n"
          ]
        }
      ]
    }
  ]
}