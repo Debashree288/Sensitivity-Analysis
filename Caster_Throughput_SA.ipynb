{
  "nbformat": 4,
  "nbformat_minor": 0,
  "metadata": {
    "colab": {
      "provenance": [],
      "authorship_tag": "ABX9TyNp1BIl1gp/+Kd4B4uwE9ee",
      "include_colab_link": true
    },
    "kernelspec": {
      "name": "python3",
      "display_name": "Python 3"
    },
    "language_info": {
      "name": "python"
    }
  },
  "cells": [
    {
      "cell_type": "markdown",
      "metadata": {
        "id": "view-in-github",
        "colab_type": "text"
      },
      "source": [
        "<a href=\"https://colab.research.google.com/github/Debashree288/Sensitivity-Analysis/blob/main/Caster_Throughput_SA.ipynb\" target=\"_parent\"><img src=\"https://colab.research.google.com/assets/colab-badge.svg\" alt=\"Open In Colab\"/></a>"
      ]
    },
    {
      "cell_type": "code",
      "execution_count": 2,
      "metadata": {
        "colab": {
          "base_uri": "https://localhost:8080/"
        },
        "id": "dERw-1kJJV6c",
        "outputId": "fdce4ceb-c95e-47ee-c0eb-eea49a628648"
      },
      "outputs": [
        {
          "output_type": "stream",
          "name": "stdout",
          "text": [
            "Width Impact:  1.6614999999999998\n",
            "Thickness Impact:  0.2025\n",
            "Speed Impact:  1.795\n"
          ]
        }
      ],
      "source": [
        "import numpy as np\n",
        "\n",
        "# Define the parameter ranges\n",
        "width_min = 0.93\n",
        "width_max = 1.7\n",
        "thickness_min = 0.2\n",
        "thickness_max = 0.25\n",
        "speed_min = 0.85\n",
        "speed_max = 2.2\n",
        "length = 1.0\n",
        "\n",
        "# Define the default values\n",
        "default_thickness = 0.23\n",
        "density = 7.85\n",
        "\n",
        "# Define the values to analyze for each parameter\n",
        "width_values = np.linspace(width_min, width_max, 21)\n",
        "thickness_values = np.linspace(thickness_min, thickness_max, 21)\n",
        "speed_values = np.linspace(speed_min, speed_max, 21)\n",
        "\n",
        "# Calculate throughput for each parameter value\n",
        "throughputs_width = width_values * default_thickness * length * density\n",
        "throughputs_thickness = width_values.mean() * thickness_values * length * density\n",
        "throughputs_speed = width_values.mean() * default_thickness * length * density * speed_values\n",
        "\n",
        "# Find the most impactful parameter for each analysis\n",
        "max_throughput_index_width = np.argmax(np.abs(np.diff(throughputs_width)))\n",
        "max_throughput_index_thickness = np.argmax(np.abs(np.diff(throughputs_thickness)))\n",
        "max_throughput_index_speed = np.argmax(np.abs(np.diff(throughputs_speed)))\n",
        "\n",
        "# Display the most impactful parameter for width analysis\n",
        "most_impactful_width = width_values[max_throughput_index_width]\n",
        "print(\"Width Impact: \", most_impactful_width)\n",
        "\n",
        "# Display the most impactful parameter for thickness analysis\n",
        "most_impactful_thickness = thickness_values[max_throughput_index_thickness]\n",
        "print(\"Thickness Impact: \", most_impactful_thickness)\n",
        "\n",
        "# Display the most impactful parameter for speed analysis\n",
        "most_impactful_speed = speed_values[max_throughput_index_speed]\n",
        "print(\"Speed Impact: \", most_impactful_speed)\n"
      ]
    }
  ]
}