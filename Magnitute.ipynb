{
  "nbformat": 4,
  "nbformat_minor": 0,
  "metadata": {
    "colab": {
      "provenance": [],
      "authorship_tag": "ABX9TyOyiPEJcxA7fcf/H07nnfum",
      "include_colab_link": true
    },
    "kernelspec": {
      "name": "python3",
      "display_name": "Python 3"
    },
    "language_info": {
      "name": "python"
    }
  },
  "cells": [
    {
      "cell_type": "markdown",
      "metadata": {
        "id": "view-in-github",
        "colab_type": "text"
      },
      "source": [
        "<a href=\"https://colab.research.google.com/github/Debashree288/Sensitivity-Analysis/blob/main/Magnitute.ipynb\" target=\"_parent\"><img src=\"https://colab.research.google.com/assets/colab-badge.svg\" alt=\"Open In Colab\"/></a>"
      ]
    },
    {
      "cell_type": "code",
      "source": [
        "def coil_weight(width, length, thickness, density):\n",
        "    return width * length * thickness * density\n",
        "\n",
        "def sensitivity_analysis(variables):\n",
        "    default_thickness = 0.23\n",
        "    default_density = 7.85\n",
        "    \n",
        "    weights = []\n",
        "    for var_name, var_range in variables.items():\n",
        "        weight_changes = []\n",
        "        for value in var_range:\n",
        "            if var_name == \"thickness\":\n",
        "                weight = coil_weight(variables[\"width\"][0], variables[\"length\"][0], value, default_density)\n",
        "            elif var_name == \"density\":\n",
        "                weight = coil_weight(variables[\"width\"][0], variables[\"length\"][0], default_thickness, value)\n",
        "            else:\n",
        "                weight = coil_weight(value, variables[\"length\"][0], default_thickness, default_density)\n",
        "            weight_changes.append(weight)\n",
        "\n",
        "        max_change = max(weight_changes)\n",
        "        min_change = min(weight_changes)\n",
        "        impact = max_change - min_change\n",
        "        weights.append((var_name, impact))\n",
        "\n",
        "    weights.sort(key=lambda x: x[1], reverse=True)\n",
        "\n",
        "    print(\"Sensitivity analysis:\")\n",
        "    for weight in weights:\n",
        "        var_name, impact = weight\n",
        "        print(f\"{var_name}: Impact = {impact}\")\n",
        "\n",
        "    most_impactful_factor = weights[0][0]\n",
        "    print(\"\\nMost impactful multiplication factor:\", most_impactful_factor)\n",
        "\n",
        "# Define the variables and their sensitivity ranges\n",
        "variables = {\n",
        "    \"width\": [1.299, 1.68],\n",
        "    \"thickness\": [0.2, 0.25],\n",
        "    \"length\": [6.693, 12.5],\n",
        "    \"density\": [7.85]\n",
        "}\n",
        "\n",
        "# Perform sensitivity analysis and identify the most impactful factor\n",
        "sensitivity_analysis(variables)\n"
      ],
      "metadata": {
        "colab": {
          "base_uri": "https://localhost:8080/"
        },
        "id": "wmL8GkA0N3Di",
        "outputId": "2f4718a6-ae20-4c77-a292-73a732f5ce73"
      },
      "execution_count": 2,
      "outputs": [
        {
          "output_type": "stream",
          "name": "stdout",
          "text": [
            "Sensitivity analysis:\n",
            "length: Impact = 70.1730161805\n",
            "width: Impact = 4.6040845815\n",
            "thickness: Impact = 3.4124762474999972\n",
            "density: Impact = 0.0\n",
            "\n",
            "Most impactful multiplication factor: length\n"
          ]
        }
      ]
    }
  ]
}