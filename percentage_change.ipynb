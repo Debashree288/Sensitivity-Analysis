{
  "nbformat": 4,
  "nbformat_minor": 0,
  "metadata": {
    "colab": {
      "provenance": [],
      "authorship_tag": "ABX9TyNQDnyZ4AekpWf3YyFRX8FE",
      "include_colab_link": true
    },
    "kernelspec": {
      "name": "python3",
      "display_name": "Python 3"
    },
    "language_info": {
      "name": "python"
    }
  },
  "cells": [
    {
      "cell_type": "markdown",
      "metadata": {
        "id": "view-in-github",
        "colab_type": "text"
      },
      "source": [
        "<a href=\"https://colab.research.google.com/github/Debashree288/Sensitivity-Analysis/blob/main/percentage_change.ipynb\" target=\"_parent\"><img src=\"https://colab.research.google.com/assets/colab-badge.svg\" alt=\"Open In Colab\"/></a>"
      ]
    },
    {
      "cell_type": "code",
      "execution_count": 1,
      "metadata": {
        "colab": {
          "base_uri": "https://localhost:8080/"
        },
        "id": "4EGhnAZBO6IL",
        "outputId": "6edf46d4-df41-45b5-e701-8e54c2ed6661"
      },
      "outputs": [
        {
          "output_type": "stream",
          "name": "stdout",
          "text": [
            "Sensitivity analysis:\n",
            "width: Impact = 47.62500000000008\n",
            "length: Impact = 24.513120599798807\n",
            "thickness: Impact = 4.34782608695652\n",
            "density: Impact = 0.0\n",
            "\n",
            "Most impactful multiplication factor: width\n"
          ]
        }
      ],
      "source": [
        "def coil_weight(width, length, thickness, density):\n",
        "    return width * length * thickness * density\n",
        "\n",
        "def sensitivity_analysis(variables):\n",
        "    default_width = 0.8\n",
        "    default_thickness = 0.23\n",
        "    default_length = 10.937\n",
        "    default_density = 7.85\n",
        "    \n",
        "    weights = []\n",
        "    for var_name, var_range in variables.items():\n",
        "        weight_changes = []\n",
        "        for value in var_range:\n",
        "            if var_name == \"width\":\n",
        "                weight = coil_weight(value, default_length, default_thickness, default_density)\n",
        "            elif var_name == \"thickness\":\n",
        "                weight = coil_weight(default_width, default_length, value, default_density)\n",
        "            elif var_name == \"length\":\n",
        "                weight = coil_weight(default_width, value, default_thickness, default_density)\n",
        "            else:\n",
        "                weight = coil_weight(default_width, default_length, default_thickness, value)\n",
        "            \n",
        "            weight_change = abs((weight - coil_weight(default_width, default_length, default_thickness, default_density)) / coil_weight(default_width, default_length, default_thickness, default_density)) * 100\n",
        "            weight_changes.append(weight_change)\n",
        "\n",
        "        max_change = max(weight_changes)\n",
        "        min_change = min(weight_changes)\n",
        "        impact = max_change - min_change\n",
        "        weights.append((var_name, impact))\n",
        "\n",
        "    weights.sort(key=lambda x: x[1], reverse=True)\n",
        "\n",
        "    print(\"Sensitivity analysis:\")\n",
        "    for weight in weights:\n",
        "        var_name, impact = weight\n",
        "        print(f\"{var_name}: Impact = {impact}\")\n",
        "\n",
        "    most_impactful_factor = weights[0][0]\n",
        "    print(\"\\nMost impactful multiplication factor:\", most_impactful_factor)\n",
        "\n",
        "# Define the variables and their sensitivity ranges\n",
        "variables = {\n",
        "    \"width\": [1.299, 1.68],\n",
        "    \"thickness\": [0.2, 0.25],\n",
        "    \"length\": [6.693, 12.5],\n",
        "    \"density\": [7.85]\n",
        "}\n",
        "\n",
        "# Perform sensitivity analysis and identify the most impactful factor\n",
        "sensitivity_analysis(variables)\n"
      ]
    }
  ]
}