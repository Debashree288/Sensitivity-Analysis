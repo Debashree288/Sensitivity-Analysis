{
  "nbformat": 4,
  "nbformat_minor": 0,
  "metadata": {
    "colab": {
      "provenance": [],
      "authorship_tag": "ABX9TyPIMmM5VyGgPtwECgSwx0P3",
      "include_colab_link": true
    },
    "kernelspec": {
      "name": "python3",
      "display_name": "Python 3"
    },
    "language_info": {
      "name": "python"
    }
  },
  "cells": [
    {
      "cell_type": "markdown",
      "metadata": {
        "id": "view-in-github",
        "colab_type": "text"
      },
      "source": [
        "<a href=\"https://colab.research.google.com/github/Debashree288/Sensitivity-Analysis/blob/Caster/solidification-simulation.ipynb\" target=\"_parent\"><img src=\"https://colab.research.google.com/assets/colab-badge.svg\" alt=\"Open In Colab\"/></a>"
      ]
    },
    {
      "cell_type": "code",
      "source": [
        "def calculate_solidification_length(thickness, casting_speed, solidification_constant):\n",
        "    return casting_speed * ((thickness / (2 * solidification_constant)) ** 2)\n",
        "\n",
        "def main():\n",
        "    initial_thickness = 230  # Initial slab thickness in mm\n",
        "    increased_thickness = 235  # Increased slab thickness in mm\n",
        "    casting_speed = 2.2  # Casting speed in m/min\n",
        "    machine_metallurgical_length = 42.1  # Metallurgical length of the machine in meters\n",
        "\n",
        "    initial_solidification_constant = 27  # Solidification constant for low carbon steel\n",
        "    initial_solidification_length = calculate_solidification_length(initial_thickness, casting_speed, initial_solidification_constant)\n",
        "    increased_solidification_length = calculate_solidification_length(increased_thickness, casting_speed, initial_solidification_constant)\n",
        "\n",
        "    print(\"Initial Solidification Length:\", initial_solidification_length, \"m\")\n",
        "    print(\"Increased Solidification Length:\", increased_solidification_length, \"m\")\n",
        "\n",
        "    if increased_solidification_length <= machine_metallurgical_length:\n",
        "        print(\"The increased slab thickness is possible within the machine's metallurgical length.\")\n",
        "        print(\"You can proceed with increasing the slab thickness.\")\n",
        "    else:\n",
        "        print(\"The increased slab thickness exceeds the machine's metallurgical length.\")\n",
        "        print(\"Consider adjusting the casting speed or other parameters to ensure solidification within the given range.\")\n",
        "\n",
        "\n",
        "if __name__ == \"__main__\":\n",
        "    main()\n"
      ],
      "metadata": {
        "colab": {
          "base_uri": "https://localhost:8080/"
        },
        "id": "MpP5Q5ebdELj",
        "outputId": "24f1e6bb-66f0-4636-f57d-dde089ba7fda"
      },
      "execution_count": 31,
      "outputs": [
        {
          "output_type": "stream",
          "name": "stdout",
          "text": [
            "Initial Solidification Length: 39.910836762688625 m\n",
            "Increased Solidification Length: 41.664951989026065 m\n",
            "The increased slab thickness is possible within the machine's metallurgical length.\n",
            "You can proceed with increasing the slab thickness.\n"
          ]
        }
      ]
    }
  ]
}