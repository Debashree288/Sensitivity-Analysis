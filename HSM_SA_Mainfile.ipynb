{
  "nbformat": 4,
  "nbformat_minor": 0,
  "metadata": {
    "colab": {
      "provenance": [],
      "authorship_tag": "ABX9TyMWdLvne3y6lKXLf6nZ3Erv",
      "include_colab_link": true
    },
    "kernelspec": {
      "name": "python3",
      "display_name": "Python 3"
    },
    "language_info": {
      "name": "python"
    }
  },
  "cells": [
    {
      "cell_type": "markdown",
      "metadata": {
        "id": "view-in-github",
        "colab_type": "text"
      },
      "source": [
        "<a href=\"https://colab.research.google.com/github/Debashree288/Sensitivity-Analysis/blob/main/HSM_SA_Mainfile.ipynb\" target=\"_parent\"><img src=\"https://colab.research.google.com/assets/colab-badge.svg\" alt=\"Open In Colab\"/></a>"
      ]
    },
    {
      "cell_type": "code",
      "execution_count": 1,
      "metadata": {
        "colab": {
          "base_uri": "https://localhost:8080/"
        },
        "id": "31RA--ihRTzR",
        "outputId": "e9f6569d-d455-492f-9e7e-219c6de79dbb"
      },
      "outputs": [
        {
          "output_type": "stream",
          "name": "stdout",
          "text": [
            "Factor\t\tCoil Weight\n",
            "------------------------\n",
            "0.80\t\t10.11\n",
            "0.82\t\t10.62\n",
            "0.84\t\t11.15\n",
            "0.86\t\t11.68\n",
            "0.88\t\t12.23\n",
            "0.90\t\t12.80\n",
            "0.92\t\t13.37\n",
            "0.94\t\t13.96\n",
            "0.96\t\t14.56\n",
            "0.98\t\t15.17\n",
            "1.00\t\t15.80\n",
            "1.02\t\t16.44\n",
            "1.04\t\t17.09\n",
            "1.06\t\t17.75\n",
            "1.08\t\t18.43\n",
            "1.10\t\t19.11\n",
            "1.12\t\t19.82\n",
            "1.14\t\t20.53\n",
            "1.16\t\t21.26\n",
            "1.18\t\t22.00\n",
            "1.20\t\t22.75\n",
            "\n",
            "Most impactful factor:  1.18\n"
          ]
        }
      ],
      "source": [
        "import numpy as np\n",
        "\n",
        "# Define the parameter ranges\n",
        "width_min = 1.299\n",
        "width_max = 1.68\n",
        "thickness_min = 0.2\n",
        "thickness_max = 0.25\n",
        "length_min = 6.693\n",
        "length_max = 12.5\n",
        "\n",
        "# Define the default values\n",
        "default_thickness = 0.23\n",
        "density = 7.85\n",
        "\n",
        "# Define the multiplication factors to analyze\n",
        "factors = np.linspace(0.8, 1.2, 21)\n",
        "\n",
        "# Calculate coil weights for each factor\n",
        "coil_weights = []\n",
        "for factor in factors:\n",
        "    width = factor * 0.8\n",
        "    thickness = default_thickness\n",
        "    length = factor * 10.937\n",
        "    \n",
        "    coil_weight = width * length * thickness * density\n",
        "    coil_weights.append(coil_weight)\n",
        "\n",
        "# Find the most impactful factor\n",
        "max_weight_index = np.argmax(np.abs(np.diff(coil_weights)))\n",
        "\n",
        "# Display the results\n",
        "print(\"Factor\\t\\tCoil Weight\")\n",
        "print(\"------------------------\")\n",
        "for i, factor in enumerate(factors):\n",
        "    print(f\"{factor:.2f}\\t\\t{coil_weights[i]:.2f}\")\n",
        "\n",
        "most_impactful_factor = factors[max_weight_index]\n",
        "print(\"\\nMost impactful factor: \", most_impactful_factor)\n"
      ]
    }
  ]
}