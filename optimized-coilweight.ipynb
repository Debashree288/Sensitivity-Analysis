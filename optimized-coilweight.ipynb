{
  "nbformat": 4,
  "nbformat_minor": 0,
  "metadata": {
    "colab": {
      "provenance": [],
      "authorship_tag": "ABX9TyNi9kdlr86u+7tZk0xd3xMd",
      "include_colab_link": true
    },
    "kernelspec": {
      "name": "python3",
      "display_name": "Python 3"
    },
    "language_info": {
      "name": "python"
    }
  },
  "cells": [
    {
      "cell_type": "markdown",
      "metadata": {
        "id": "view-in-github",
        "colab_type": "text"
      },
      "source": [
        "<a href=\"https://colab.research.google.com/github/Debashree288/Sensitivity-Analysis/blob/main/optimized-coilweight.ipynb\" target=\"_parent\"><img src=\"https://colab.research.google.com/assets/colab-badge.svg\" alt=\"Open In Colab\"/></a>"
      ]
    },
    {
      "cell_type": "code",
      "source": [
        "def calculate_coil_weight(width, length, thickness):\n",
        "    density = 7.85  # Density of steel in g/cm^3\n",
        "    return width * length * thickness * density / 1000000000 * 0.98\n",
        "\n",
        "def find_optimized_combination(target_coil_weight, width_range=None):\n",
        "    length_ranges = [(9000, 9701), (10400, 10401), (11300, 12501)]\n",
        "    thickness = 230\n",
        "\n",
        "    best_combination = None\n",
        "    closest_weight = float('inf')\n",
        "\n",
        "    if width_range is None:\n",
        "        width_range = range(800, 1701)\n",
        "\n",
        "    for width in width_range:\n",
        "        for length_range in length_ranges:\n",
        "            for length in range(*length_range):\n",
        "                coil_weight = calculate_coil_weight(width, length, thickness)\n",
        "                weight_diff = abs(coil_weight - target_coil_weight)\n",
        "\n",
        "                if weight_diff < closest_weight:\n",
        "                    closest_weight = weight_diff\n",
        "                    best_combination = (width, length)\n",
        "\n",
        "    return best_combination, closest_weight\n",
        "\n",
        "# Example usage\n",
        "target_weight = float(input(\"Enter the desired coil weight: \"))\n",
        "use_width_range = input(\"Do you want to provide a width range? (Y/N): \")\n",
        "\n",
        "if use_width_range.upper() == 'Y':\n",
        "    width_range_str = input(\"Enter the range of width (e.g., 1201-1300): \")\n",
        "    width_start, width_end = map(int, width_range_str.split('-'))\n",
        "\n",
        "    if width_start < 800 or width_end > 1700:\n",
        "        print(\"Width range is out of allowed bounds.\")\n",
        "    else:\n",
        "        width_range = range(width_start, width_end + 1)\n",
        "\n",
        "        best_combination, closest_weight = find_optimized_combination(target_weight, width_range)\n",
        "\n",
        "        if best_combination is None:\n",
        "            print(\"The desired coil weight is not possible within the specified width range.\")\n",
        "        else:\n",
        "            width, length = best_combination\n",
        "            print(f\"Optimized combination: Width = {width:.2f} mm, Length = {length:.2f} mm\")\n",
        "            print(f\"Maximum Achieved coil weight: {calculate_coil_weight(width, length, 230):.2f}\")\n",
        "\n",
        "else:\n",
        "    best_combination, closest_weight = find_optimized_combination(target_weight)\n",
        "\n",
        "    if best_combination is None:\n",
        "        print(\"No combination found within the given constraints.\")\n",
        "    else:\n",
        "        width, length = best_combination\n",
        "        print(f\"Optimized combination: Width = {width:.2f} mm, Length = {length:.2f} mm\")\n",
        "        print(f\"Maximum Achieved coil weight: {calculate_coil_weight(width, length, 230):.2f}\")\n"
      ],
      "metadata": {
        "colab": {
          "base_uri": "https://localhost:8080/"
        },
        "id": "AEwe_QowgqrR",
        "outputId": "f88ddcbb-fce9-4822-8891-93025f4dc172"
      },
      "execution_count": 37,
      "outputs": [
        {
          "output_type": "stream",
          "name": "stdout",
          "text": [
            "Enter the desired coil weight: 37\n",
            "Do you want to provide a width range? (Y/N): y\n",
            "Enter the range of width (e.g., 1201-1300): 1200-1300\n",
            "Optimized combination: Width = 1300.00 mm, Length = 12500.00 mm\n",
            "Maximum Achieved coil weight: 28.75\n"
          ]
        }
      ]
    }
  ]
}